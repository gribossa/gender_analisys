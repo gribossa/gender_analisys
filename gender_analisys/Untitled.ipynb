{
 "cells": [
  {
   "cell_type": "code",
   "execution_count": 1,
   "metadata": {},
   "outputs": [],
   "source": [
    "import pandas as pd\n",
    "import matplotlib.pyplot as plt\n",
    "import seaborn as sns"
   ]
  },
  {
   "cell_type": "code",
   "execution_count": 2,
   "metadata": {},
   "outputs": [],
   "source": [
    "from pylab import rcParams\n",
    "rcParams['figure.figsize'] = 13,6"
   ]
  },
  {
   "cell_type": "code",
   "execution_count": 3,
   "metadata": {},
   "outputs": [],
   "source": [
    "df_paying_of_region = pd.read_excel('/Users/sonyasha/Documents/study/gender_analisys/Приложение к сборнику Женщины и мужчины/R_4_3_pril.xlsx')"
   ]
  },
  {
   "cell_type": "code",
   "execution_count": 4,
   "metadata": {},
   "outputs": [
    {
     "data": {
      "text/html": [
       "<div>\n",
       "<style scoped>\n",
       "    .dataframe tbody tr th:only-of-type {\n",
       "        vertical-align: middle;\n",
       "    }\n",
       "\n",
       "    .dataframe tbody tr th {\n",
       "        vertical-align: top;\n",
       "    }\n",
       "\n",
       "    .dataframe thead th {\n",
       "        text-align: right;\n",
       "    }\n",
       "</style>\n",
       "<table border=\"1\" class=\"dataframe\">\n",
       "  <thead>\n",
       "    <tr style=\"text-align: right;\">\n",
       "      <th></th>\n",
       "      <th>Средняя заработная плата работников</th>\n",
       "      <th>Unnamed: 1</th>\n",
       "      <th>Unnamed: 2</th>\n",
       "      <th>Unnamed: 3</th>\n",
       "      <th>Unnamed: 4</th>\n",
       "    </tr>\n",
       "  </thead>\n",
       "  <tbody>\n",
       "    <tr>\n",
       "      <th>0</th>\n",
       "      <td>4.9. Средняя начисленная заработная плата женщ...</td>\n",
       "      <td>NaN</td>\n",
       "      <td>NaN</td>\n",
       "      <td>NaN</td>\n",
       "      <td>NaN</td>\n",
       "    </tr>\n",
       "    <tr>\n",
       "      <th>1</th>\n",
       "      <td>NaN</td>\n",
       "      <td>Средняя начисленная заработная плата, руб.</td>\n",
       "      <td>NaN</td>\n",
       "      <td>Отношение заработной платы женщин к заработной...</td>\n",
       "      <td>Удельный вес женщин в общей численности работн...</td>\n",
       "    </tr>\n",
       "    <tr>\n",
       "      <th>2</th>\n",
       "      <td>NaN</td>\n",
       "      <td>женщины</td>\n",
       "      <td>мужчины</td>\n",
       "      <td>NaN</td>\n",
       "      <td>NaN</td>\n",
       "    </tr>\n",
       "    <tr>\n",
       "      <th>3</th>\n",
       "      <td>Российская Федерация</td>\n",
       "      <td>37871.7</td>\n",
       "      <td>52532.7</td>\n",
       "      <td>72.0916</td>\n",
       "      <td>53.2269</td>\n",
       "    </tr>\n",
       "    <tr>\n",
       "      <th>4</th>\n",
       "      <td>Центральный федеральный округ</td>\n",
       "      <td>44336</td>\n",
       "      <td>57711.9</td>\n",
       "      <td>76.823</td>\n",
       "      <td>52.5761</td>\n",
       "    </tr>\n",
       "    <tr>\n",
       "      <th>5</th>\n",
       "      <td>Белгородская область</td>\n",
       "      <td>31105.8</td>\n",
       "      <td>39966.9</td>\n",
       "      <td>77.8291</td>\n",
       "      <td>52.2599</td>\n",
       "    </tr>\n",
       "    <tr>\n",
       "      <th>6</th>\n",
       "      <td>Брянская область</td>\n",
       "      <td>25282</td>\n",
       "      <td>33424</td>\n",
       "      <td>75.6404</td>\n",
       "      <td>55.0851</td>\n",
       "    </tr>\n",
       "    <tr>\n",
       "      <th>7</th>\n",
       "      <td>Владимирская область</td>\n",
       "      <td>30105.2</td>\n",
       "      <td>39248.8</td>\n",
       "      <td>76.7033</td>\n",
       "      <td>57.1979</td>\n",
       "    </tr>\n",
       "    <tr>\n",
       "      <th>8</th>\n",
       "      <td>Воронежская область</td>\n",
       "      <td>31127</td>\n",
       "      <td>41131.4</td>\n",
       "      <td>75.6771</td>\n",
       "      <td>54.6904</td>\n",
       "    </tr>\n",
       "    <tr>\n",
       "      <th>9</th>\n",
       "      <td>Ивановская область</td>\n",
       "      <td>24945</td>\n",
       "      <td>31452.1</td>\n",
       "      <td>79.311</td>\n",
       "      <td>62.414</td>\n",
       "    </tr>\n",
       "  </tbody>\n",
       "</table>\n",
       "</div>"
      ],
      "text/plain": [
       "                 Средняя заработная плата работников  \\\n",
       "0  4.9. Средняя начисленная заработная плата женщ...   \n",
       "1                                                NaN   \n",
       "2                                                NaN   \n",
       "3                               Российская Федерация   \n",
       "4                      Центральный федеральный округ   \n",
       "5                               Белгородская область   \n",
       "6                                   Брянская область   \n",
       "7                               Владимирская область   \n",
       "8                                Воронежская область   \n",
       "9                                 Ивановская область   \n",
       "\n",
       "                                   Unnamed: 1 Unnamed: 2  \\\n",
       "0                                         NaN        NaN   \n",
       "1  Средняя начисленная заработная плата, руб.        NaN   \n",
       "2                                     женщины    мужчины   \n",
       "3                                     37871.7    52532.7   \n",
       "4                                       44336    57711.9   \n",
       "5                                     31105.8    39966.9   \n",
       "6                                       25282      33424   \n",
       "7                                     30105.2    39248.8   \n",
       "8                                       31127    41131.4   \n",
       "9                                       24945    31452.1   \n",
       "\n",
       "                                          Unnamed: 3  \\\n",
       "0                                                NaN   \n",
       "1  Отношение заработной платы женщин к заработной...   \n",
       "2                                                NaN   \n",
       "3                                            72.0916   \n",
       "4                                             76.823   \n",
       "5                                            77.8291   \n",
       "6                                            75.6404   \n",
       "7                                            76.7033   \n",
       "8                                            75.6771   \n",
       "9                                             79.311   \n",
       "\n",
       "                                          Unnamed: 4  \n",
       "0                                                NaN  \n",
       "1  Удельный вес женщин в общей численности работн...  \n",
       "2                                                NaN  \n",
       "3                                            53.2269  \n",
       "4                                            52.5761  \n",
       "5                                            52.2599  \n",
       "6                                            55.0851  \n",
       "7                                            57.1979  \n",
       "8                                            54.6904  \n",
       "9                                             62.414  "
      ]
     },
     "execution_count": 4,
     "metadata": {},
     "output_type": "execute_result"
    }
   ],
   "source": [
    "df_paying_of_region.head(10)"
   ]
  },
  {
   "cell_type": "code",
   "execution_count": 5,
   "metadata": {},
   "outputs": [],
   "source": [
    "df_paying_of_region.rename(columns={'Средняя заработная плата работников': 'Region',\n",
    "                                    'Unnamed: 1': 'Average_paying_of_women_labor', \n",
    "                                    'Unnamed: 2': 'Average_paying_of_men_labor',\n",
    "                                    'Unnamed: 3': 'Realation_of_womens_paying_to_mens',\n",
    "                                    'Unnamed: 4': 'Percent_of_women_in_labor_force'\n",
    "                                   }, inplace=True)"
   ]
  },
  {
   "cell_type": "code",
   "execution_count": 6,
   "metadata": {},
   "outputs": [],
   "source": [
    "df_paying_of_region.drop(labels=[0,1,2],axis=0,inplace=True)"
   ]
  },
  {
   "cell_type": "code",
   "execution_count": 7,
   "metadata": {},
   "outputs": [
    {
     "data": {
      "text/html": [
       "<div>\n",
       "<style scoped>\n",
       "    .dataframe tbody tr th:only-of-type {\n",
       "        vertical-align: middle;\n",
       "    }\n",
       "\n",
       "    .dataframe tbody tr th {\n",
       "        vertical-align: top;\n",
       "    }\n",
       "\n",
       "    .dataframe thead th {\n",
       "        text-align: right;\n",
       "    }\n",
       "</style>\n",
       "<table border=\"1\" class=\"dataframe\">\n",
       "  <thead>\n",
       "    <tr style=\"text-align: right;\">\n",
       "      <th></th>\n",
       "      <th>Region</th>\n",
       "      <th>Average_paying_of_women_labor</th>\n",
       "      <th>Average_paying_of_men_labor</th>\n",
       "      <th>Realation_of_womens_paying_to_mens</th>\n",
       "      <th>Percent_of_women_in_labor_force</th>\n",
       "    </tr>\n",
       "  </thead>\n",
       "  <tbody>\n",
       "    <tr>\n",
       "      <th>3</th>\n",
       "      <td>Российская Федерация</td>\n",
       "      <td>37871.7</td>\n",
       "      <td>52532.7</td>\n",
       "      <td>72.0916</td>\n",
       "      <td>53.2269</td>\n",
       "    </tr>\n",
       "    <tr>\n",
       "      <th>4</th>\n",
       "      <td>Центральный федеральный округ</td>\n",
       "      <td>44336</td>\n",
       "      <td>57711.9</td>\n",
       "      <td>76.823</td>\n",
       "      <td>52.5761</td>\n",
       "    </tr>\n",
       "    <tr>\n",
       "      <th>5</th>\n",
       "      <td>Белгородская область</td>\n",
       "      <td>31105.8</td>\n",
       "      <td>39966.9</td>\n",
       "      <td>77.8291</td>\n",
       "      <td>52.2599</td>\n",
       "    </tr>\n",
       "    <tr>\n",
       "      <th>6</th>\n",
       "      <td>Брянская область</td>\n",
       "      <td>25282</td>\n",
       "      <td>33424</td>\n",
       "      <td>75.6404</td>\n",
       "      <td>55.0851</td>\n",
       "    </tr>\n",
       "    <tr>\n",
       "      <th>7</th>\n",
       "      <td>Владимирская область</td>\n",
       "      <td>30105.2</td>\n",
       "      <td>39248.8</td>\n",
       "      <td>76.7033</td>\n",
       "      <td>57.1979</td>\n",
       "    </tr>\n",
       "  </tbody>\n",
       "</table>\n",
       "</div>"
      ],
      "text/plain": [
       "                          Region Average_paying_of_women_labor  \\\n",
       "3           Российская Федерация                       37871.7   \n",
       "4  Центральный федеральный округ                         44336   \n",
       "5           Белгородская область                       31105.8   \n",
       "6               Брянская область                         25282   \n",
       "7           Владимирская область                       30105.2   \n",
       "\n",
       "  Average_paying_of_men_labor Realation_of_womens_paying_to_mens  \\\n",
       "3                     52532.7                            72.0916   \n",
       "4                     57711.9                             76.823   \n",
       "5                     39966.9                            77.8291   \n",
       "6                       33424                            75.6404   \n",
       "7                     39248.8                            76.7033   \n",
       "\n",
       "  Percent_of_women_in_labor_force  \n",
       "3                         53.2269  \n",
       "4                         52.5761  \n",
       "5                         52.2599  \n",
       "6                         55.0851  \n",
       "7                         57.1979  "
      ]
     },
     "execution_count": 7,
     "metadata": {},
     "output_type": "execute_result"
    }
   ],
   "source": [
    "df_paying_of_region.head(5)"
   ]
  },
  {
   "cell_type": "code",
   "execution_count": 8,
   "metadata": {},
   "outputs": [],
   "source": [
    "df_paying_of_region['Average_paying_of_women_labor'] = df_paying_of_region.Average_paying_of_women_labor.astype('float')\n",
    "df_paying_of_region['Average_paying_of_men_labor'] = df_paying_of_region.Average_paying_of_men_labor.astype('float')\n",
    "df_paying_of_region['Realation_of_womens_paying_to_mens'] = df_paying_of_region.Realation_of_womens_paying_to_mens.astype('float')\n",
    "df_paying_of_region['Percent_of_women_in_labor_force'] = df_paying_of_region.Percent_of_women_in_labor_force.astype('float')\n"
   ]
  },
  {
   "cell_type": "code",
   "execution_count": 9,
   "metadata": {},
   "outputs": [
    {
     "name": "stdout",
     "output_type": "stream",
     "text": [
      "<class 'pandas.core.frame.DataFrame'>\n",
      "Int64Index: 96 entries, 3 to 98\n",
      "Data columns (total 5 columns):\n",
      " #   Column                              Non-Null Count  Dtype  \n",
      "---  ------                              --------------  -----  \n",
      " 0   Region                              96 non-null     object \n",
      " 1   Average_paying_of_women_labor       96 non-null     float64\n",
      " 2   Average_paying_of_men_labor         96 non-null     float64\n",
      " 3   Realation_of_womens_paying_to_mens  96 non-null     float64\n",
      " 4   Percent_of_women_in_labor_force     96 non-null     float64\n",
      "dtypes: float64(4), object(1)\n",
      "memory usage: 4.5+ KB\n"
     ]
    }
   ],
   "source": [
    "df_paying_of_region.info()"
   ]
  },
  {
   "cell_type": "code",
   "execution_count": 10,
   "metadata": {},
   "outputs": [],
   "source": [
    "list_of_areas = ['Центральный федеральный округ', \n",
    "                 'Дальневосточный федеральный округ',\n",
    "                 'Сибирский федеральный округ', \n",
    "                 'Уральский федеральный округ',\n",
    "                 'Приволжский федеральный округ',\n",
    "                 'Северо-Кавказский федеральный округ',\n",
    "                 'Южный федеральный округ',\n",
    "                 'Северо-Западный федеральный округ'\n",
    "                ]"
   ]
  },
  {
   "cell_type": "code",
   "execution_count": 11,
   "metadata": {},
   "outputs": [],
   "source": [
    "df_areas = df_paying_of_region[df_paying_of_region['Region'].isin(list_of_areas)]"
   ]
  },
  {
   "cell_type": "code",
   "execution_count": 12,
   "metadata": {},
   "outputs": [],
   "source": [
    "df_paying_of_region = df_paying_of_region.set_index('Region')\n",
    "df_regions = df_paying_of_region.drop(['Российская Федерация','Центральный федеральный округ', \n",
    "                 'Дальневосточный федеральный округ',\n",
    "                 'Сибирский федеральный округ', \n",
    "                 'Уральский федеральный округ',\n",
    "                 'Приволжский федеральный округ',\n",
    "                 'Северо-Кавказский федеральный округ',\n",
    "                 'Южный федеральный округ',\n",
    "                 'Северо-Западный федеральный округ', ], axis=0)"
   ]
  },
  {
   "cell_type": "code",
   "execution_count": 13,
   "metadata": {},
   "outputs": [
    {
     "data": {
      "text/html": [
       "<div>\n",
       "<style scoped>\n",
       "    .dataframe tbody tr th:only-of-type {\n",
       "        vertical-align: middle;\n",
       "    }\n",
       "\n",
       "    .dataframe tbody tr th {\n",
       "        vertical-align: top;\n",
       "    }\n",
       "\n",
       "    .dataframe thead th {\n",
       "        text-align: right;\n",
       "    }\n",
       "</style>\n",
       "<table border=\"1\" class=\"dataframe\">\n",
       "  <thead>\n",
       "    <tr style=\"text-align: right;\">\n",
       "      <th></th>\n",
       "      <th>Average_paying_of_women_labor</th>\n",
       "      <th>Average_paying_of_men_labor</th>\n",
       "      <th>Realation_of_womens_paying_to_mens</th>\n",
       "      <th>Percent_of_women_in_labor_force</th>\n",
       "    </tr>\n",
       "    <tr>\n",
       "      <th>Region</th>\n",
       "      <th></th>\n",
       "      <th></th>\n",
       "      <th></th>\n",
       "      <th></th>\n",
       "    </tr>\n",
       "  </thead>\n",
       "  <tbody>\n",
       "    <tr>\n",
       "      <th>Белгородская область</th>\n",
       "      <td>31105.842284</td>\n",
       "      <td>39966.872605</td>\n",
       "      <td>77.829063</td>\n",
       "      <td>52.25989</td>\n",
       "    </tr>\n",
       "    <tr>\n",
       "      <th>Брянская область</th>\n",
       "      <td>25282.041814</td>\n",
       "      <td>33424.005888</td>\n",
       "      <td>75.640370</td>\n",
       "      <td>55.08514</td>\n",
       "    </tr>\n",
       "    <tr>\n",
       "      <th>Владимирская область</th>\n",
       "      <td>30105.172162</td>\n",
       "      <td>39248.843377</td>\n",
       "      <td>76.703336</td>\n",
       "      <td>57.19788</td>\n",
       "    </tr>\n",
       "    <tr>\n",
       "      <th>Воронежская область</th>\n",
       "      <td>31127.016566</td>\n",
       "      <td>41131.373061</td>\n",
       "      <td>75.677067</td>\n",
       "      <td>54.69041</td>\n",
       "    </tr>\n",
       "    <tr>\n",
       "      <th>Ивановская область</th>\n",
       "      <td>24944.968012</td>\n",
       "      <td>31452.071954</td>\n",
       "      <td>79.311048</td>\n",
       "      <td>62.41403</td>\n",
       "    </tr>\n",
       "  </tbody>\n",
       "</table>\n",
       "</div>"
      ],
      "text/plain": [
       "                      Average_paying_of_women_labor  \\\n",
       "Region                                                \n",
       "Белгородская область                   31105.842284   \n",
       "Брянская область                       25282.041814   \n",
       "Владимирская область                   30105.172162   \n",
       "Воронежская область                    31127.016566   \n",
       "Ивановская область                     24944.968012   \n",
       "\n",
       "                      Average_paying_of_men_labor  \\\n",
       "Region                                              \n",
       "Белгородская область                 39966.872605   \n",
       "Брянская область                     33424.005888   \n",
       "Владимирская область                 39248.843377   \n",
       "Воронежская область                  41131.373061   \n",
       "Ивановская область                   31452.071954   \n",
       "\n",
       "                      Realation_of_womens_paying_to_mens  \\\n",
       "Region                                                     \n",
       "Белгородская область                           77.829063   \n",
       "Брянская область                               75.640370   \n",
       "Владимирская область                           76.703336   \n",
       "Воронежская область                            75.677067   \n",
       "Ивановская область                             79.311048   \n",
       "\n",
       "                      Percent_of_women_in_labor_force  \n",
       "Region                                                 \n",
       "Белгородская область                         52.25989  \n",
       "Брянская область                             55.08514  \n",
       "Владимирская область                         57.19788  \n",
       "Воронежская область                          54.69041  \n",
       "Ивановская область                           62.41403  "
      ]
     },
     "execution_count": 13,
     "metadata": {},
     "output_type": "execute_result"
    }
   ],
   "source": [
    "df_regions.head()"
   ]
  },
  {
   "cell_type": "code",
   "execution_count": 14,
   "metadata": {},
   "outputs": [
    {
     "data": {
      "text/html": [
       "<div>\n",
       "<style scoped>\n",
       "    .dataframe tbody tr th:only-of-type {\n",
       "        vertical-align: middle;\n",
       "    }\n",
       "\n",
       "    .dataframe tbody tr th {\n",
       "        vertical-align: top;\n",
       "    }\n",
       "\n",
       "    .dataframe thead th {\n",
       "        text-align: right;\n",
       "    }\n",
       "</style>\n",
       "<table border=\"1\" class=\"dataframe\">\n",
       "  <thead>\n",
       "    <tr style=\"text-align: right;\">\n",
       "      <th></th>\n",
       "      <th>Region</th>\n",
       "      <th>Average_paying_of_women_labor</th>\n",
       "      <th>Average_paying_of_men_labor</th>\n",
       "      <th>Realation_of_womens_paying_to_mens</th>\n",
       "      <th>Percent_of_women_in_labor_force</th>\n",
       "    </tr>\n",
       "  </thead>\n",
       "  <tbody>\n",
       "    <tr>\n",
       "      <th>45</th>\n",
       "      <td>Северо-Кавказский федеральный округ</td>\n",
       "      <td>23605.666283</td>\n",
       "      <td>28878.396419</td>\n",
       "      <td>81.74161</td>\n",
       "      <td>61.9977</td>\n",
       "    </tr>\n",
       "  </tbody>\n",
       "</table>\n",
       "</div>"
      ],
      "text/plain": [
       "                                 Region  Average_paying_of_women_labor  \\\n",
       "45  Северо-Кавказский федеральный округ                   23605.666283   \n",
       "\n",
       "    Average_paying_of_men_labor  Realation_of_womens_paying_to_mens  \\\n",
       "45                 28878.396419                            81.74161   \n",
       "\n",
       "    Percent_of_women_in_labor_force  \n",
       "45                          61.9977  "
      ]
     },
     "execution_count": 14,
     "metadata": {},
     "output_type": "execute_result"
    }
   ],
   "source": [
    "df_areas[df_areas['Average_paying_of_women_labor'] == min(df_areas['Average_paying_of_women_labor'])]"
   ]
  },
  {
   "cell_type": "code",
   "execution_count": 15,
   "metadata": {},
   "outputs": [
    {
     "data": {
      "text/html": [
       "<div>\n",
       "<style scoped>\n",
       "    .dataframe tbody tr th:only-of-type {\n",
       "        vertical-align: middle;\n",
       "    }\n",
       "\n",
       "    .dataframe tbody tr th {\n",
       "        vertical-align: top;\n",
       "    }\n",
       "\n",
       "    .dataframe thead th {\n",
       "        text-align: right;\n",
       "    }\n",
       "</style>\n",
       "<table border=\"1\" class=\"dataframe\">\n",
       "  <thead>\n",
       "    <tr style=\"text-align: right;\">\n",
       "      <th></th>\n",
       "      <th>Region</th>\n",
       "      <th>Average_paying_of_women_labor</th>\n",
       "      <th>Average_paying_of_men_labor</th>\n",
       "      <th>Realation_of_womens_paying_to_mens</th>\n",
       "      <th>Percent_of_women_in_labor_force</th>\n",
       "    </tr>\n",
       "  </thead>\n",
       "  <tbody>\n",
       "    <tr>\n",
       "      <th>87</th>\n",
       "      <td>Дальневосточный федеральный округ</td>\n",
       "      <td>47822.338255</td>\n",
       "      <td>68314.933042</td>\n",
       "      <td>70.002759</td>\n",
       "      <td>50.67817</td>\n",
       "    </tr>\n",
       "  </tbody>\n",
       "</table>\n",
       "</div>"
      ],
      "text/plain": [
       "                               Region  Average_paying_of_women_labor  \\\n",
       "87  Дальневосточный федеральный округ                   47822.338255   \n",
       "\n",
       "    Average_paying_of_men_labor  Realation_of_womens_paying_to_mens  \\\n",
       "87                 68314.933042                           70.002759   \n",
       "\n",
       "    Percent_of_women_in_labor_force  \n",
       "87                         50.67817  "
      ]
     },
     "execution_count": 15,
     "metadata": {},
     "output_type": "execute_result"
    }
   ],
   "source": [
    "df_areas[df_areas['Average_paying_of_women_labor'] == max(df_areas['Average_paying_of_women_labor'])]"
   ]
  },
  {
   "cell_type": "code",
   "execution_count": 16,
   "metadata": {},
   "outputs": [
    {
     "data": {
      "text/plain": [
       "<AxesSubplot:title={'center':'Разница в оплате труда женщин и мужчин в различных округах'}, xlabel='Федеральный округ', ylabel='Средний размер оплаты труда'>"
      ]
     },
     "execution_count": 16,
     "metadata": {},
     "output_type": "execute_result"
    },
    {
     "data": {
      "image/png": "[encoded data removed]",
      "text/plain": [
       "<Figure size 936x432 with 1 Axes>"
      ]
     },
     "metadata": {
      "needs_background": "light"
     },
     "output_type": "display_data"
    }
   ],
   "source": [
    "raiting = df_areas[['Region', 'Average_paying_of_women_labor', 'Average_paying_of_men_labor']].sort_values(by='Average_paying_of_women_labor')\n",
    "raiting.plot.bar(title='Разница в оплате труда женщин и мужчин в различных округах',\n",
    "                 x='Region',\n",
    "                 xlabel='Федеральный округ',\n",
    "                 ylabel='Средний размер оплаты труда')"
   ]
  },
  {
   "cell_type": "code",
   "execution_count": 18,
   "metadata": {},
   "outputs": [
    {
     "data": {
      "text/plain": [
       "<AxesSubplot:title={'center':'Зависимость между представленностью женщин в рабочей силе и долей оплаты труда'}, xlabel='Percent_of_women_in_labor_force', ylabel='Realation_of_womens_paying_to_mens'>"
      ]
     },
     "execution_count": 18,
     "metadata": {},
     "output_type": "execute_result"
    },
    {
     "data": {
      "image/png": "[encoded data removed]",
      "text/plain": [
       "<Figure size 936x432 with 1 Axes>"
      ]
     },
     "metadata": {
      "needs_background": "light"
     },
     "output_type": "display_data"
    }
   ],
   "source": [
    "df_regions.plot(kind='scatter',\n",
    "                title='Зависимость между представленностью женщин в рабочей силе и долей оплаты труда',\n",
    "                x='Percent_of_women_in_labor_force',\n",
    "                y='Realation_of_womens_paying_to_mens',\n",
    "                s=100)"
   ]
  },
  {
   "cell_type": "code",
   "execution_count": 32,
   "metadata": {
    "scrolled": true
   },
   "outputs": [
    {
     "data": {
      "image/png": "[encoded data removed]",
      "text/plain": [
       "<Figure size 936x432 with 1 Axes>"
      ]
     },
     "metadata": {
      "needs_background": "light"
     },
     "output_type": "display_data"
    }
   ],
   "source": [
    "sns.boxplot(y='Average_paying_of_women_labor',\n",
    "            data=df_regions)"
   ]
  },
  {
   "cell_type": "code",
   "execution_count": 33,
   "metadata": {},
   "outputs": [
    {
     "data": {
      "text/plain": [
       "<AxesSubplot:ylabel='Average_paying_of_men_labor'>"
      ]
     },
     "execution_count": 33,
     "metadata": {},
     "output_type": "execute_result"
    },
    {
     "data": {
      "image/png": "[encoded data removed]",
      "text/plain": [
       "<Figure size 936x432 with 1 Axes>"
      ]
     },
     "metadata": {
      "needs_background": "light"
     },
     "output_type": "display_data"
    }
   ],
   "source": [
    "sns.boxplot(y='Average_paying_of_men_labor',\n",
    "            data=df_regions)"
   ]
  },
  {
   "cell_type": "markdown",
   "metadata": {},
   "source": [
    "На основании графиков, мы видим, что средний уровень оплаты труда мужчин выше, чем средний уровень оплаты труда женщин. При этом, в зарплате мужчин выбросами считается уровень выше 80тыс. рублей в месяц, в том время как у женщин выбросом считается оплата труда выше 50 тыс. рублей в месяц. \n",
    "На основании приведенныхграфиков также можно предположить, что включенность в рабочую силу влияет на уровень оплаты труда среди всей группы в сторону повышения. \n",
    "Гипотеза: чем больше женщин включено в рабочую силу в регионе, тем выше средняя оплата труда"
   ]
  },
  {
   "cell_type": "code",
   "execution_count": 84,
   "metadata": {},
   "outputs": [],
   "source": [
    "df = pd.read_excel('/Users/sonyasha/Documents/study/gender_analisys/Приложение к сборнику Женщины и мужчины/R_4_1_pril.xlsx')"
   ]
  },
  {
   "cell_type": "code",
   "execution_count": 86,
   "metadata": {},
   "outputs": [
    {
     "name": "stdout",
     "output_type": "stream",
     "text": [
      "<class 'pandas.core.frame.DataFrame'>\n",
      "RangeIndex: 101 entries, 0 to 100\n",
      "Data columns (total 5 columns):\n",
      " #   Column      Non-Null Count  Dtype \n",
      "---  ------      --------------  ----- \n",
      " 0   Занятые     99 non-null     object\n",
      " 1   Unnamed: 1  98 non-null     object\n",
      " 2   Unnamed: 2  97 non-null     object\n",
      " 3   Unnamed: 3  98 non-null     object\n",
      " 4   Unnamed: 4  97 non-null     object\n",
      "dtypes: object(5)\n",
      "memory usage: 4.1+ KB\n"
     ]
    }
   ],
   "source": [
    "df.info()"
   ]
  },
  {
   "cell_type": "code",
   "execution_count": 85,
   "metadata": {},
   "outputs": [
    {
     "data": {
      "text/html": [
       "<div>\n",
       "<style scoped>\n",
       "    .dataframe tbody tr th:only-of-type {\n",
       "        vertical-align: middle;\n",
       "    }\n",
       "\n",
       "    .dataframe tbody tr th {\n",
       "        vertical-align: top;\n",
       "    }\n",
       "\n",
       "    .dataframe thead th {\n",
       "        text-align: right;\n",
       "    }\n",
       "</style>\n",
       "<table border=\"1\" class=\"dataframe\">\n",
       "  <thead>\n",
       "    <tr style=\"text-align: right;\">\n",
       "      <th></th>\n",
       "      <th>Занятые</th>\n",
       "      <th>Unnamed: 1</th>\n",
       "      <th>Unnamed: 2</th>\n",
       "      <th>Unnamed: 3</th>\n",
       "      <th>Unnamed: 4</th>\n",
       "    </tr>\n",
       "  </thead>\n",
       "  <tbody>\n",
       "    <tr>\n",
       "      <th>0</th>\n",
       "      <td>4.1. Уровень  участия в составе рабочей силы и...</td>\n",
       "      <td>NaN</td>\n",
       "      <td>NaN</td>\n",
       "      <td>NaN</td>\n",
       "      <td>NaN</td>\n",
       "    </tr>\n",
       "    <tr>\n",
       "      <th>1</th>\n",
       "      <td>В процентах</td>\n",
       "      <td>NaN</td>\n",
       "      <td>NaN</td>\n",
       "      <td>NaN</td>\n",
       "      <td>NaN</td>\n",
       "    </tr>\n",
       "    <tr>\n",
       "      <th>2</th>\n",
       "      <td>NaN</td>\n",
       "      <td>Уровень участия в составе рабочей силы</td>\n",
       "      <td>NaN</td>\n",
       "      <td>Уровень занятости</td>\n",
       "      <td>NaN</td>\n",
       "    </tr>\n",
       "    <tr>\n",
       "      <th>3</th>\n",
       "      <td>NaN</td>\n",
       "      <td>женщины</td>\n",
       "      <td>мужчины</td>\n",
       "      <td>женщины</td>\n",
       "      <td>мужчины</td>\n",
       "    </tr>\n",
       "    <tr>\n",
       "      <th>4</th>\n",
       "      <td>Российская Федерация</td>\n",
       "      <td>79.0966</td>\n",
       "      <td>85.1459</td>\n",
       "      <td>75.2886</td>\n",
       "      <td>80.9837</td>\n",
       "    </tr>\n",
       "  </tbody>\n",
       "</table>\n",
       "</div>"
      ],
      "text/plain": [
       "                                            Занятые   \\\n",
       "0  4.1. Уровень  участия в составе рабочей силы и...   \n",
       "1                                        В процентах   \n",
       "2                                                NaN   \n",
       "3                                                NaN   \n",
       "4                               Российская Федерация   \n",
       "\n",
       "                               Unnamed: 1 Unnamed: 2         Unnamed: 3  \\\n",
       "0                                     NaN        NaN                NaN   \n",
       "1                                     NaN        NaN                NaN   \n",
       "2  Уровень участия в составе рабочей силы        NaN  Уровень занятости   \n",
       "3                                 женщины    мужчины            женщины   \n",
       "4                                 79.0966    85.1459            75.2886   \n",
       "\n",
       "  Unnamed: 4  \n",
       "0        NaN  \n",
       "1        NaN  \n",
       "2        NaN  \n",
       "3    мужчины  \n",
       "4    80.9837  "
      ]
     },
     "execution_count": 85,
     "metadata": {},
     "output_type": "execute_result"
    }
   ],
   "source": [
    "df.head()"
   ]
  },
  {
   "cell_type": "code",
   "execution_count": 78,
   "metadata": {},
   "outputs": [],
   "source": [
    "df.rename(columns={'Занятые': 'Region', \n",
    "                   'Unnamed: 1': 'Percent_women_in_labor_force',\n",
    "                   'Unnamed: 2': 'Percent_men_in_labor_force',\n",
    "                   'Unnamed: 3': 'Women_employment',\n",
    "                   'Unnamed: 4': 'Men_employment'}, inplace=True)"
   ]
  },
  {
   "cell_type": "code",
   "execution_count": 79,
   "metadata": {},
   "outputs": [],
   "source": [
    "df.drop(labels=[0,1,2,3,96], axis=0, inplace=True)"
   ]
  },
  {
   "cell_type": "code",
   "execution_count": 80,
   "metadata": {},
   "outputs": [],
   "source": [
    "df['Percent_women_in_labor_force'] = df.Percent_women_in_labor_force.astype('float')\n",
    "df['Percent_men_in_labor_force'] = df.Percent_men_in_labor_force.astype('float')\n",
    "df['Women_employment'] = df.Women_employment.astype('float')\n",
    "df['Men_employment'] = df.Men_employment.astype('float')"
   ]
  },
  {
   "cell_type": "code",
   "execution_count": 83,
   "metadata": {},
   "outputs": [
    {
     "ename": "KeyError",
     "evalue": "'Region'",
     "output_type": "error",
     "traceback": [
      "\u001b[0;31m---------------------------------------------------------------------------\u001b[0m",
      "\u001b[0;31mKeyError\u001b[0m                                  Traceback (most recent call last)",
      "\u001b[0;32m<ipython-input-83-2dde97325e23>\u001b[0m in \u001b[0;36m<module>\u001b[0;34m\u001b[0m\n\u001b[0;32m----> 1\u001b[0;31m \u001b[0mdf_regions\u001b[0m\u001b[0;34m.\u001b[0m\u001b[0mmerge\u001b[0m\u001b[0;34m(\u001b[0m\u001b[0mdf\u001b[0m\u001b[0;34m,\u001b[0m \u001b[0mleft_on\u001b[0m\u001b[0;34m=\u001b[0m\u001b[0;34m'Region'\u001b[0m\u001b[0;34m,\u001b[0m \u001b[0mright_on\u001b[0m\u001b[0;34m=\u001b[0m\u001b[0;34m'Region'\u001b[0m\u001b[0;34m,\u001b[0m \u001b[0mhow\u001b[0m\u001b[0;34m=\u001b[0m\u001b[0;34m'inner'\u001b[0m\u001b[0;34m)\u001b[0m\u001b[0;34m\u001b[0m\u001b[0;34m\u001b[0m\u001b[0m\n\u001b[0m",
      "\u001b[0;32m/Applications/anaconda3/lib/python3.8/site-packages/pandas/core/frame.py\u001b[0m in \u001b[0;36mmerge\u001b[0;34m(self, right, how, on, left_on, right_on, left_index, right_index, sort, suffixes, copy, indicator, validate)\u001b[0m\n\u001b[1;32m   7944\u001b[0m         \u001b[0;32mfrom\u001b[0m \u001b[0mpandas\u001b[0m\u001b[0;34m.\u001b[0m\u001b[0mcore\u001b[0m\u001b[0;34m.\u001b[0m\u001b[0mreshape\u001b[0m\u001b[0;34m.\u001b[0m\u001b[0mmerge\u001b[0m \u001b[0;32mimport\u001b[0m \u001b[0mmerge\u001b[0m\u001b[0;34m\u001b[0m\u001b[0;34m\u001b[0m\u001b[0m\n\u001b[1;32m   7945\u001b[0m \u001b[0;34m\u001b[0m\u001b[0m\n\u001b[0;32m-> 7946\u001b[0;31m         return merge(\n\u001b[0m\u001b[1;32m   7947\u001b[0m             \u001b[0mself\u001b[0m\u001b[0;34m,\u001b[0m\u001b[0;34m\u001b[0m\u001b[0;34m\u001b[0m\u001b[0m\n\u001b[1;32m   7948\u001b[0m             \u001b[0mright\u001b[0m\u001b[0;34m,\u001b[0m\u001b[0;34m\u001b[0m\u001b[0;34m\u001b[0m\u001b[0m\n",
      "\u001b[0;32m/Applications/anaconda3/lib/python3.8/site-packages/pandas/core/reshape/merge.py\u001b[0m in \u001b[0;36mmerge\u001b[0;34m(left, right, how, on, left_on, right_on, left_index, right_index, sort, suffixes, copy, indicator, validate)\u001b[0m\n\u001b[1;32m     72\u001b[0m     \u001b[0mvalidate\u001b[0m\u001b[0;34m=\u001b[0m\u001b[0;32mNone\u001b[0m\u001b[0;34m,\u001b[0m\u001b[0;34m\u001b[0m\u001b[0;34m\u001b[0m\u001b[0m\n\u001b[1;32m     73\u001b[0m ) -> \"DataFrame\":\n\u001b[0;32m---> 74\u001b[0;31m     op = _MergeOperation(\n\u001b[0m\u001b[1;32m     75\u001b[0m         \u001b[0mleft\u001b[0m\u001b[0;34m,\u001b[0m\u001b[0;34m\u001b[0m\u001b[0;34m\u001b[0m\u001b[0m\n\u001b[1;32m     76\u001b[0m         \u001b[0mright\u001b[0m\u001b[0;34m,\u001b[0m\u001b[0;34m\u001b[0m\u001b[0;34m\u001b[0m\u001b[0m\n",
      "\u001b[0;32m/Applications/anaconda3/lib/python3.8/site-packages/pandas/core/reshape/merge.py\u001b[0m in \u001b[0;36m__init__\u001b[0;34m(self, left, right, how, on, left_on, right_on, axis, left_index, right_index, sort, suffixes, copy, indicator, validate)\u001b[0m\n\u001b[1;32m    650\u001b[0m             \u001b[0mself\u001b[0m\u001b[0;34m.\u001b[0m\u001b[0mright_join_keys\u001b[0m\u001b[0;34m,\u001b[0m\u001b[0;34m\u001b[0m\u001b[0;34m\u001b[0m\u001b[0m\n\u001b[1;32m    651\u001b[0m             \u001b[0mself\u001b[0m\u001b[0;34m.\u001b[0m\u001b[0mjoin_names\u001b[0m\u001b[0;34m,\u001b[0m\u001b[0;34m\u001b[0m\u001b[0;34m\u001b[0m\u001b[0m\n\u001b[0;32m--> 652\u001b[0;31m         ) = self._get_merge_keys()\n\u001b[0m\u001b[1;32m    653\u001b[0m \u001b[0;34m\u001b[0m\u001b[0m\n\u001b[1;32m    654\u001b[0m         \u001b[0;31m# validate the merge keys dtypes. We may need to coerce\u001b[0m\u001b[0;34m\u001b[0m\u001b[0;34m\u001b[0m\u001b[0;34m\u001b[0m\u001b[0m\n",
      "\u001b[0;32m/Applications/anaconda3/lib/python3.8/site-packages/pandas/core/reshape/merge.py\u001b[0m in \u001b[0;36m_get_merge_keys\u001b[0;34m(self)\u001b[0m\n\u001b[1;32m   1003\u001b[0m                     \u001b[0;32mif\u001b[0m \u001b[0;32mnot\u001b[0m \u001b[0mis_rkey\u001b[0m\u001b[0;34m(\u001b[0m\u001b[0mrk\u001b[0m\u001b[0;34m)\u001b[0m\u001b[0;34m:\u001b[0m\u001b[0;34m\u001b[0m\u001b[0;34m\u001b[0m\u001b[0m\n\u001b[1;32m   1004\u001b[0m                         \u001b[0;32mif\u001b[0m \u001b[0mrk\u001b[0m \u001b[0;32mis\u001b[0m \u001b[0;32mnot\u001b[0m \u001b[0;32mNone\u001b[0m\u001b[0;34m:\u001b[0m\u001b[0;34m\u001b[0m\u001b[0;34m\u001b[0m\u001b[0m\n\u001b[0;32m-> 1005\u001b[0;31m                             \u001b[0mright_keys\u001b[0m\u001b[0;34m.\u001b[0m\u001b[0mappend\u001b[0m\u001b[0;34m(\u001b[0m\u001b[0mright\u001b[0m\u001b[0;34m.\u001b[0m\u001b[0m_get_label_or_level_values\u001b[0m\u001b[0;34m(\u001b[0m\u001b[0mrk\u001b[0m\u001b[0;34m)\u001b[0m\u001b[0;34m)\u001b[0m\u001b[0;34m\u001b[0m\u001b[0;34m\u001b[0m\u001b[0m\n\u001b[0m\u001b[1;32m   1006\u001b[0m                         \u001b[0;32melse\u001b[0m\u001b[0;34m:\u001b[0m\u001b[0;34m\u001b[0m\u001b[0;34m\u001b[0m\u001b[0m\n\u001b[1;32m   1007\u001b[0m                             \u001b[0;31m# work-around for merge_asof(right_index=True)\u001b[0m\u001b[0;34m\u001b[0m\u001b[0;34m\u001b[0m\u001b[0;34m\u001b[0m\u001b[0m\n",
      "\u001b[0;32m/Applications/anaconda3/lib/python3.8/site-packages/pandas/core/generic.py\u001b[0m in \u001b[0;36m_get_label_or_level_values\u001b[0;34m(self, key, axis)\u001b[0m\n\u001b[1;32m   1561\u001b[0m             \u001b[0mvalues\u001b[0m \u001b[0;34m=\u001b[0m \u001b[0mself\u001b[0m\u001b[0;34m.\u001b[0m\u001b[0maxes\u001b[0m\u001b[0;34m[\u001b[0m\u001b[0maxis\u001b[0m\u001b[0;34m]\u001b[0m\u001b[0;34m.\u001b[0m\u001b[0mget_level_values\u001b[0m\u001b[0;34m(\u001b[0m\u001b[0mkey\u001b[0m\u001b[0;34m)\u001b[0m\u001b[0;34m.\u001b[0m\u001b[0m_values\u001b[0m\u001b[0;34m\u001b[0m\u001b[0;34m\u001b[0m\u001b[0m\n\u001b[1;32m   1562\u001b[0m         \u001b[0;32melse\u001b[0m\u001b[0;34m:\u001b[0m\u001b[0;34m\u001b[0m\u001b[0;34m\u001b[0m\u001b[0m\n\u001b[0;32m-> 1563\u001b[0;31m             \u001b[0;32mraise\u001b[0m \u001b[0mKeyError\u001b[0m\u001b[0;34m(\u001b[0m\u001b[0mkey\u001b[0m\u001b[0;34m)\u001b[0m\u001b[0;34m\u001b[0m\u001b[0;34m\u001b[0m\u001b[0m\n\u001b[0m\u001b[1;32m   1564\u001b[0m \u001b[0;34m\u001b[0m\u001b[0m\n\u001b[1;32m   1565\u001b[0m         \u001b[0;31m# Check for duplicates\u001b[0m\u001b[0;34m\u001b[0m\u001b[0;34m\u001b[0m\u001b[0;34m\u001b[0m\u001b[0m\n",
      "\u001b[0;31mKeyError\u001b[0m: 'Region'"
     ]
    }
   ],
   "source": [
    "df_regions.merge(df, left_on='Region', right_on='Region', how='inner')"
   ]
  },
  {
   "cell_type": "code",
   "execution_count": null,
   "metadata": {},
   "outputs": [],
   "source": []
  }
 ],
 "metadata": {
  "kernelspec": {
   "display_name": "Python 3",
   "language": "python",
   "name": "python3"
  },
  "language_info": {
   "codemirror_mode": {
    "name": "ipython",
    "version": 3
   },
   "file_extension": ".py",
   "mimetype": "text/x-python",
   "name": "python",
   "nbconvert_exporter": "python",
   "pygments_lexer": "ipython3",
   "version": "3.8.5"
  }
 },
 "nbformat": 4,
 "nbformat_minor": 4
}
